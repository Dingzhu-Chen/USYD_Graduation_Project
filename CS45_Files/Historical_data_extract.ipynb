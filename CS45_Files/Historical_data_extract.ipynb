{
  "nbformat": 4,
  "nbformat_minor": 0,
  "metadata": {
    "colab": {
      "provenance": []
    },
    "kernelspec": {
      "name": "python3",
      "display_name": "Python 3"
    },
    "language_info": {
      "name": "python"
    }
  },
  "cells": [
    {
      "cell_type": "code",
      "execution_count": null,
      "metadata": {
        "colab": {
          "base_uri": "https://localhost:8080/"
        },
        "id": "4k2K24jV5aLh",
        "outputId": "af9a3bb8-14c5-41d4-93d4-f349ff2aecf8"
      },
      "outputs": [
        {
          "output_type": "stream",
          "name": "stdout",
          "text": [
            "Collecting openmeteo-requests\n",
            "  Downloading openmeteo_requests-1.3.0-py3-none-any.whl.metadata (9.7 kB)\n",
            "Collecting openmeteo-sdk>=1.4.0 (from openmeteo-requests)\n",
            "  Downloading openmeteo_sdk-1.14.1-py3-none-any.whl.metadata (934 bytes)\n",
            "Requirement already satisfied: requests in /usr/local/lib/python3.10/dist-packages (from openmeteo-requests) (2.32.3)\n",
            "Requirement already satisfied: flatbuffers>=24.0.0 in /usr/local/lib/python3.10/dist-packages (from openmeteo-sdk>=1.4.0->openmeteo-requests) (24.3.25)\n",
            "Requirement already satisfied: charset-normalizer<4,>=2 in /usr/local/lib/python3.10/dist-packages (from requests->openmeteo-requests) (3.3.2)\n",
            "Requirement already satisfied: idna<4,>=2.5 in /usr/local/lib/python3.10/dist-packages (from requests->openmeteo-requests) (3.7)\n",
            "Requirement already satisfied: urllib3<3,>=1.21.1 in /usr/local/lib/python3.10/dist-packages (from requests->openmeteo-requests) (2.0.7)\n",
            "Requirement already satisfied: certifi>=2017.4.17 in /usr/local/lib/python3.10/dist-packages (from requests->openmeteo-requests) (2024.7.4)\n",
            "Downloading openmeteo_requests-1.3.0-py3-none-any.whl (6.0 kB)\n",
            "Downloading openmeteo_sdk-1.14.1-py3-none-any.whl (7.3 kB)\n",
            "Installing collected packages: openmeteo-sdk, openmeteo-requests\n",
            "Successfully installed openmeteo-requests-1.3.0 openmeteo-sdk-1.14.1\n",
            "Collecting requests-cache\n",
            "  Downloading requests_cache-1.2.1-py3-none-any.whl.metadata (9.9 kB)\n",
            "Collecting retry-requests\n",
            "  Downloading retry_requests-2.0.0-py3-none-any.whl.metadata (2.6 kB)\n",
            "Requirement already satisfied: numpy in /usr/local/lib/python3.10/dist-packages (1.26.4)\n",
            "Requirement already satisfied: pandas in /usr/local/lib/python3.10/dist-packages (2.1.4)\n",
            "Requirement already satisfied: attrs>=21.2 in /usr/local/lib/python3.10/dist-packages (from requests-cache) (24.2.0)\n",
            "Collecting cattrs>=22.2 (from requests-cache)\n",
            "  Downloading cattrs-23.2.3-py3-none-any.whl.metadata (10 kB)\n",
            "Requirement already satisfied: platformdirs>=2.5 in /usr/local/lib/python3.10/dist-packages (from requests-cache) (4.2.2)\n",
            "Requirement already satisfied: requests>=2.22 in /usr/local/lib/python3.10/dist-packages (from requests-cache) (2.32.3)\n",
            "Collecting url-normalize>=1.4 (from requests-cache)\n",
            "  Downloading url_normalize-1.4.3-py2.py3-none-any.whl.metadata (3.1 kB)\n",
            "Requirement already satisfied: urllib3>=1.25.5 in /usr/local/lib/python3.10/dist-packages (from requests-cache) (2.0.7)\n",
            "Requirement already satisfied: python-dateutil>=2.8.2 in /usr/local/lib/python3.10/dist-packages (from pandas) (2.8.2)\n",
            "Requirement already satisfied: pytz>=2020.1 in /usr/local/lib/python3.10/dist-packages (from pandas) (2024.1)\n",
            "Requirement already satisfied: tzdata>=2022.1 in /usr/local/lib/python3.10/dist-packages (from pandas) (2024.1)\n",
            "Requirement already satisfied: exceptiongroup>=1.1.1 in /usr/local/lib/python3.10/dist-packages (from cattrs>=22.2->requests-cache) (1.2.2)\n",
            "Requirement already satisfied: typing-extensions!=4.6.3,>=4.1.0 in /usr/local/lib/python3.10/dist-packages (from cattrs>=22.2->requests-cache) (4.12.2)\n",
            "Requirement already satisfied: six>=1.5 in /usr/local/lib/python3.10/dist-packages (from python-dateutil>=2.8.2->pandas) (1.16.0)\n",
            "Requirement already satisfied: charset-normalizer<4,>=2 in /usr/local/lib/python3.10/dist-packages (from requests>=2.22->requests-cache) (3.3.2)\n",
            "Requirement already satisfied: idna<4,>=2.5 in /usr/local/lib/python3.10/dist-packages (from requests>=2.22->requests-cache) (3.7)\n",
            "Requirement already satisfied: certifi>=2017.4.17 in /usr/local/lib/python3.10/dist-packages (from requests>=2.22->requests-cache) (2024.7.4)\n",
            "Downloading requests_cache-1.2.1-py3-none-any.whl (61 kB)\n",
            "\u001b[2K   \u001b[90m━━━━━━━━━━━━━━━━━━━━━━━━━━━━━━━━━━━━━━━━\u001b[0m \u001b[32m61.4/61.4 kB\u001b[0m \u001b[31m973.4 kB/s\u001b[0m eta \u001b[36m0:00:00\u001b[0m\n",
            "\u001b[?25hDownloading retry_requests-2.0.0-py3-none-any.whl (15 kB)\n",
            "Downloading cattrs-23.2.3-py3-none-any.whl (57 kB)\n",
            "\u001b[2K   \u001b[90m━━━━━━━━━━━━━━━━━━━━━━━━━━━━━━━━━━━━━━━━\u001b[0m \u001b[32m57.5/57.5 kB\u001b[0m \u001b[31m2.2 MB/s\u001b[0m eta \u001b[36m0:00:00\u001b[0m\n",
            "\u001b[?25hDownloading url_normalize-1.4.3-py2.py3-none-any.whl (6.8 kB)\n",
            "Installing collected packages: url-normalize, cattrs, retry-requests, requests-cache\n",
            "Successfully installed cattrs-23.2.3 requests-cache-1.2.1 retry-requests-2.0.0 url-normalize-1.4.3\n"
          ]
        }
      ],
      "source": [
        "!pip install openmeteo-requests\n",
        "!pip install requests-cache retry-requests numpy pandas"
      ]
    },
    {
      "cell_type": "code",
      "source": [
        "from google.colab import drive\n",
        "drive.mount('/content/drive')"
      ],
      "metadata": {
        "id": "deiGRo07bGo9"
      },
      "execution_count": null,
      "outputs": []
    },
    {
      "cell_type": "code",
      "source": [
        "import openmeteo_requests\n",
        "\n",
        "import requests_cache\n",
        "import pandas as pd\n",
        "from retry_requests import retry\n",
        "\n",
        "# Setup the Open-Meteo API client with cache and retry on error\n",
        "cache_session = requests_cache.CachedSession('.cache', expire_after = -1)\n",
        "retry_session = retry(cache_session, retries = 5, backoff_factor = 0.2)\n",
        "openmeteo = openmeteo_requests.Client(session = retry_session)\n",
        "\n",
        "# Make sure all required weather variables are listed here\n",
        "# The order of variables in hourly or daily is important to assign them correctly below\n",
        "url = \"https://archive-api.open-meteo.com/v1/archive\"\n",
        "params = {\n",
        "\t\"latitude\": [-30, -31.02],\n",
        "\t\"longitude\": [140, 130],\n",
        "\t\"start_date\": \"2019-08-01\",\n",
        "\t\"end_date\": \"2020-01-11\",\n",
        "\t\"hourly\": [\"temperature_2m\", \"relative_humidity_2m\", \"dew_point_2m\", \"precipitation\", \"weather_code\", \"surface_pressure\", \"wind_speed_10m\", \"wind_direction_10m\", \"wind_direction_100m\", \"soil_temperature_7_to_28cm\", \"soil_temperature_28_to_100cm\"]\n",
        "}\n",
        "responses = openmeteo.weather_api(url, params=params)\n",
        "\n",
        "# Process first location. Add a for-loop for multiple locations or weather models\n",
        "response = responses[0]\n",
        "print(f\"Coordinates {response.Latitude()}°N {response.Longitude()}°E\")\n",
        "print(f\"Elevation {response.Elevation()} m asl\")\n",
        "print(f\"Timezone {response.Timezone()} {response.TimezoneAbbreviation()}\")\n",
        "print(f\"Timezone difference to GMT+0 {response.UtcOffsetSeconds()} s\")\n",
        "\n",
        "# Process hourly data. The order of variables needs to be the same as requested.\n",
        "hourly = response.Hourly()\n",
        "hourly_temperature_2m = hourly.Variables(0).ValuesAsNumpy()\n",
        "hourly_relative_humidity_2m = hourly.Variables(1).ValuesAsNumpy()\n",
        "hourly_dew_point_2m = hourly.Variables(2).ValuesAsNumpy()\n",
        "hourly_precipitation = hourly.Variables(3).ValuesAsNumpy()\n",
        "hourly_weather_code = hourly.Variables(4).ValuesAsNumpy()\n",
        "hourly_surface_pressure = hourly.Variables(5).ValuesAsNumpy()\n",
        "hourly_wind_speed_10m = hourly.Variables(6).ValuesAsNumpy()\n",
        "hourly_wind_direction_10m = hourly.Variables(7).ValuesAsNumpy()\n",
        "hourly_wind_direction_100m = hourly.Variables(8).ValuesAsNumpy()\n",
        "hourly_soil_temperature_7_to_28cm = hourly.Variables(9).ValuesAsNumpy()\n",
        "hourly_soil_temperature_28_to_100cm = hourly.Variables(10).ValuesAsNumpy()\n",
        "\n",
        "hourly_data = {\"date\": pd.date_range(\n",
        "\tstart = pd.to_datetime(hourly.Time(), unit = \"s\", utc = True),\n",
        "\tend = pd.to_datetime(hourly.TimeEnd(), unit = \"s\", utc = True),\n",
        "\tfreq = pd.Timedelta(seconds = hourly.Interval()),\n",
        "\tinclusive = \"left\"\n",
        ")}\n",
        "hourly_data[\"temperature_2m\"] = hourly_temperature_2m\n",
        "hourly_data[\"relative_humidity_2m\"] = hourly_relative_humidity_2m\n",
        "hourly_data[\"dew_point_2m\"] = hourly_dew_point_2m\n",
        "hourly_data[\"precipitation\"] = hourly_precipitation\n",
        "hourly_data[\"weather_code\"] = hourly_weather_code\n",
        "hourly_data[\"surface_pressure\"] = hourly_surface_pressure\n",
        "hourly_data[\"wind_speed_10m\"] = hourly_wind_speed_10m\n",
        "hourly_data[\"wind_direction_10m\"] = hourly_wind_direction_10m\n",
        "hourly_data[\"wind_direction_100m\"] = hourly_wind_direction_100m\n",
        "hourly_data[\"soil_temperature_7_to_28cm\"] = hourly_soil_temperature_7_to_28cm\n",
        "hourly_data[\"soil_temperature_28_to_100cm\"] = hourly_soil_temperature_28_to_100cm\n",
        "\n",
        "hourly_dataframe = pd.DataFrame(data = hourly_data)\n",
        "print(hourly_dataframe)"
      ],
      "metadata": {
        "id": "n4FjAgQQ5cHF"
      },
      "execution_count": null,
      "outputs": []
    },
    {
      "cell_type": "code",
      "source": [
        "'''\n",
        "Generate Australia coordinates\n",
        "'''\n",
        "'''\n",
        "origin:\n",
        "33x42x100x100x24x365 (year) = 121,413,600,000\n",
        "\n",
        "less Shrink: scale 0.01\n",
        "10x10x100x100x24x1 = 24,000,000\n",
        "\n",
        "shrink: scale 0.1\n",
        "10x10x10x10x24x1 = 240,000\n",
        "'''\n",
        "def generate_all_australia_coordinates():\n",
        "    # Australia latitude range: -43 to -10\n",
        "    lat_min, lat_max = -38.9, -37.0\n",
        "    # Australia longitude range: 112 to 154\n",
        "    lon_min, lon_max = 149.0, 150.0\n",
        "\n",
        "    #coordinates = []\n",
        "    longitudes = []\n",
        "    latitudes = []\n",
        "\n",
        "    # Iterate through latitudes and longitudes in steps of 0.0001\n",
        "\n",
        "    lat = lat_min\n",
        "    while lat <= lat_max:\n",
        "        lon = lon_min\n",
        "        while lon <= lon_max:\n",
        "            longitudes.append(round(lon, 1))\n",
        "            latitudes.append(round(lat, 1))\n",
        "            lon += 0.1\n",
        "        lat += 0.1\n",
        "\n",
        "\n",
        "    #return coordinates\n",
        "    return longitudes, latitudes"
      ],
      "metadata": {
        "id": "K2imROWk6MpX"
      },
      "execution_count": null,
      "outputs": []
    },
    {
      "cell_type": "code",
      "source": [
        "longitudes, latitudes = generate_all_australia_coordinates()"
      ],
      "metadata": {
        "id": "AIBSuiTC7mxg"
      },
      "execution_count": null,
      "outputs": []
    },
    {
      "cell_type": "code",
      "source": [
        "len(longitudes)"
      ],
      "metadata": {
        "id": "3TZ3vrNh83re"
      },
      "execution_count": null,
      "outputs": []
    },
    {
      "cell_type": "markdown",
      "source": [
        "Connect to Open-Meteo API"
      ],
      "metadata": {
        "id": "ohHB8MaX7v_q"
      }
    },
    {
      "cell_type": "code",
      "source": [
        "\n",
        "'''\n",
        "API SET UP\n",
        "[hourly]: are the weather attributes we may want to use\n",
        "'''\n",
        "\n",
        "\n",
        "# Setup the Open-Meteo API client with cache and retry on error\n",
        "cache_session = requests_cache.CachedSession('.cache', expire_after = -1)\n",
        "retry_session = retry(cache_session, retries = 5, backoff_factor = 0.2)\n",
        "openmeteo = openmeteo_requests.Client(session = retry_session)\n",
        "\n",
        "# Make sure all required weather variables are listed here\n",
        "# The order of variables in hourly or daily is important to assign them correctly below\n",
        "url = \"https://archive-api.open-meteo.com/v1/archive\"\n",
        "params = {\n",
        "\t\"latitude\": latitudes,\n",
        "\t\"longitude\": longitudes,\n",
        "\t\"start_date\": \"2019-08-01\",\n",
        "\t\"end_date\": \"2020-01-11\",\n",
        "\t\"hourly\": [\"temperature_2m\", \"relative_humidity_2m\", \"dew_point_2m\", \"precipitation\", \"weather_code\", \"surface_pressure\", \"wind_speed_10m\", \"wind_direction_10m\", \"wind_direction_100m\", \"soil_temperature_7_to_28cm\", \"soil_temperature_28_to_100cm\"]\n",
        "}\n",
        "responses = openmeteo.weather_api(url, params=params)"
      ],
      "metadata": {
        "id": "wbC6AfoP7pW0"
      },
      "execution_count": null,
      "outputs": []
    },
    {
      "cell_type": "code",
      "source": [],
      "metadata": {
        "id": "vdbB_yF6BhpC"
      },
      "execution_count": null,
      "outputs": []
    },
    {
      "cell_type": "code",
      "source": [
        "'''\n",
        "Generate a dataframe store each coordinate's historical data\n",
        "'''\n",
        "\n",
        "\n",
        "def get_weather_data(coordinate):\n",
        "  hourly = response.Hourly()\n",
        "  hourly_temperature_2m = hourly.Variables(0).ValuesAsNumpy()\n",
        "  hourly_relative_humidity_2m = hourly.Variables(1).ValuesAsNumpy()\n",
        "  hourly_dew_point_2m = hourly.Variables(2).ValuesAsNumpy()\n",
        "  hourly_precipitation = hourly.Variables(3).ValuesAsNumpy()\n",
        "  hourly_weather_code = hourly.Variables(4).ValuesAsNumpy()\n",
        "  hourly_surface_pressure = hourly.Variables(5).ValuesAsNumpy()\n",
        "  hourly_wind_speed_10m = hourly.Variables(6).ValuesAsNumpy()\n",
        "  hourly_wind_direction_10m = hourly.Variables(7).ValuesAsNumpy()\n",
        "  hourly_wind_direction_100m = hourly.Variables(8).ValuesAsNumpy()\n",
        "  hourly_soil_temperature_7_to_28cm = hourly.Variables(9).ValuesAsNumpy()\n",
        "  hourly_soil_temperature_28_to_100cm = hourly.Variables(10).ValuesAsNumpy()\n",
        "\n",
        "  hourly_data = {\"date\": pd.date_range(\n",
        "    start = pd.to_datetime(hourly.Time(), unit = \"s\", utc = True),\n",
        "    end = pd.to_datetime(hourly.TimeEnd(), unit = \"s\", utc = True),\n",
        "    freq = pd.Timedelta(seconds = hourly.Interval()),\n",
        "    inclusive = \"left\"\n",
        "  )}\n",
        "  hourly_data[\"latitude\"] = coordinate.Latitude()\n",
        "  hourly_data[\"longitude\"] = coordinate.Longitude()\n",
        "  hourly_data[\"temperature_2m\"] = hourly_temperature_2m\n",
        "  hourly_data[\"relative_humidity_2m\"] = hourly_relative_humidity_2m\n",
        "  hourly_data[\"dew_point_2m\"] = hourly_dew_point_2m\n",
        "  hourly_data[\"precipitation\"] = hourly_precipitation\n",
        "  hourly_data[\"weather_code\"] = hourly_weather_code\n",
        "  hourly_data[\"surface_pressure\"] = hourly_surface_pressure\n",
        "  hourly_data[\"wind_speed_10m\"] = hourly_wind_speed_10m\n",
        "  hourly_data[\"wind_direction_10m\"] = hourly_wind_direction_10m\n",
        "  hourly_data[\"wind_direction_100m\"] = hourly_wind_direction_100m\n",
        "  hourly_data[\"soil_temperature_7_to_28cm\"] = hourly_soil_temperature_7_to_28cm\n",
        "  hourly_data[\"soil_temperature_28_to_100cm\"] = hourly_soil_temperature_28_to_100cm\n",
        "\n",
        "  return hourly_data"
      ],
      "metadata": {
        "id": "gGKsyd3z7_u9"
      },
      "execution_count": null,
      "outputs": []
    },
    {
      "cell_type": "code",
      "source": [
        "def expected_variables(coordinates):\n",
        "    #print(coordinates)\n",
        "    total_df = pd.DataFrame()\n",
        "    coordinate_checking = {}\n",
        "    for coordinate in coordinates:\n",
        "\n",
        "        api_lat = coordinate.Latitude()\n",
        "        api_lon = coordinate.Longitude()\n",
        "        api_coord = (api_lat, api_lon)\n",
        "\n",
        "        if api_coord not in coordinate_checking:\n",
        "\n",
        "            coordinate_checking[api_coord] = 1\n",
        "\n",
        "            # Process hourly data. The order of variables needs to be the same as requested.\n",
        "            hourly_data = get_weather_data(coordinate)\n",
        "            hourly_df = pd.DataFrame(data = hourly_data)\n",
        "\n",
        "            total_df = pd.concat([total_df, hourly_df], ignore_index=True)\n",
        "        else:\n",
        "            continue\n",
        "\n",
        "    return total_df"
      ],
      "metadata": {
        "id": "G-K_20B-8RCp"
      },
      "execution_count": null,
      "outputs": []
    },
    {
      "cell_type": "code",
      "source": [
        "results = expected_variables(responses)"
      ],
      "metadata": {
        "id": "Nvnjr6I-8Yd5"
      },
      "execution_count": null,
      "outputs": []
    },
    {
      "cell_type": "code",
      "source": [
        "results.to_csv('4139_149150_data.csv', index = False)"
      ],
      "metadata": {
        "id": "fdtKgvJr8arv"
      },
      "execution_count": null,
      "outputs": []
    },
    {
      "cell_type": "code",
      "source": [],
      "metadata": {
        "id": "KgHZtMhAX5qH"
      },
      "execution_count": null,
      "outputs": []
    }
  ]
}